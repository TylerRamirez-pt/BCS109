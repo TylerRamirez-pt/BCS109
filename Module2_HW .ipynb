{
  "nbformat": 4,
  "nbformat_minor": 0,
  "metadata": {
    "colab": {
      "name": "Module2_HW",
      "provenance": []
    },
    "kernelspec": {
      "name": "python3",
      "display_name": "Python 3"
    }
  },
  "cells": [
    {
      "cell_type": "code",
      "metadata": {
        "id": "OD9ikyvoyUoj",
        "colab_type": "code",
        "colab": {}
      },
      "source": [
        ""
      ],
      "execution_count": null,
      "outputs": []
    },
    {
      "cell_type": "markdown",
      "metadata": {
        "id": "43e6o_H5yq3a",
        "colab_type": "text"
      },
      "source": [
        "# About Me\n",
        "Hello, my names *Tyler Ramirez*. This is my *second* coding class at farmingdale. I took *BCS 120* last semester. The **lockdown** came and I ignored the class completely so its currently **incomplete**, I'm working on finishing it *right now*. \n",
        "##Something interesting\n",
        "My main **hobby** at the moment is *fitness*. I'm studying to be a certified fitness trainer. I've been training for **3** years and I got a job as a trainer for **1** month before the lockdown. As a result of covid I've decided to become an *online* trainer opposed to in-person b/c of **covid**. "
      ]
    }
  ]
}